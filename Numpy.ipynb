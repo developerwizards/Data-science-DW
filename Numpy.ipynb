{
  "nbformat": 4,
  "nbformat_minor": 0,
  "metadata": {
    "colab": {
      "name": "Numpy.ipynb",
      "provenance": [],
      "collapsed_sections": [],
      "authorship_tag": "ABX9TyPVxk1ri96A+KuxxpnxKmXp",
      "include_colab_link": true
    },
    "kernelspec": {
      "name": "python3",
      "display_name": "Python 3"
    }
  },
  "cells": [
    {
      "cell_type": "markdown",
      "metadata": {
        "id": "view-in-github",
        "colab_type": "text"
      },
      "source": [
        "<a href=\"https://colab.research.google.com/github/developerwizards/Data-science-DW/blob/main/Numpy.ipynb\" target=\"_parent\"><img src=\"https://colab.research.google.com/assets/colab-badge.svg\" alt=\"Open In Colab\"/></a>"
      ]
    },
    {
      "cell_type": "markdown",
      "metadata": {
        "id": "oQRCQD0ybtEh"
      },
      "source": [
        "Working with Numpy - Mathematical operations"
      ]
    },
    {
      "cell_type": "code",
      "metadata": {
        "id": "uhAE0GPrb1nB"
      },
      "source": [
        "import numpy as np"
      ],
      "execution_count": null,
      "outputs": []
    },
    {
      "cell_type": "code",
      "metadata": {
        "colab": {
          "base_uri": "https://localhost:8080/"
        },
        "id": "SgiXimnPb8EA",
        "outputId": "f4237bb9-da76-468c-8d0a-fba7503af898"
      },
      "source": [
        "a = np.array([1,2,3,4])\r\n",
        "\r\n",
        "print(a)\r\n",
        "print(type(a))\r\n",
        "print(a.shape)"
      ],
      "execution_count": null,
      "outputs": [
        {
          "output_type": "stream",
          "text": [
            "[1 2 3 4]\n",
            "<class 'numpy.ndarray'>\n",
            "(4,)\n"
          ],
          "name": "stdout"
        }
      ]
    },
    {
      "cell_type": "code",
      "metadata": {
        "colab": {
          "base_uri": "https://localhost:8080/"
        },
        "id": "goYLjHUucHta",
        "outputId": "3b4d12c6-f3b5-4f2c-b229-4afc06d94444"
      },
      "source": [
        "b = np.array([[1],[2],[3],[4],[5]])\r\n",
        "\r\n",
        "print(b)\r\n",
        "print(type(b))\r\n",
        "print(b.shape)"
      ],
      "execution_count": null,
      "outputs": [
        {
          "output_type": "stream",
          "text": [
            "[[1]\n",
            " [2]\n",
            " [3]\n",
            " [4]\n",
            " [5]]\n",
            "<class 'numpy.ndarray'>\n",
            "(5, 1)\n"
          ],
          "name": "stdout"
        }
      ]
    },
    {
      "cell_type": "code",
      "metadata": {
        "id": "Hu8qn-qocb5V"
      },
      "source": [
        "#accessing array elements arr_name[row][col] Note:- index start from 0, so to access the nth element index will be n-1\r\n",
        "b_fe = b[0][0]"
      ],
      "execution_count": null,
      "outputs": []
    },
    {
      "cell_type": "code",
      "metadata": {
        "colab": {
          "base_uri": "https://localhost:8080/"
        },
        "id": "wilbx6BMcvLX",
        "outputId": "ebe9c704-c7e4-4464-f67f-7c19c4a58622"
      },
      "source": [
        "b_fe"
      ],
      "execution_count": null,
      "outputs": [
        {
          "output_type": "execute_result",
          "data": {
            "text/plain": [
              "1"
            ]
          },
          "metadata": {
            "tags": []
          },
          "execution_count": 7
        }
      ]
    },
    {
      "cell_type": "code",
      "metadata": {
        "id": "L67COKINcwxz"
      },
      "source": [
        "b_trde = b[2][0]"
      ],
      "execution_count": null,
      "outputs": []
    },
    {
      "cell_type": "code",
      "metadata": {
        "colab": {
          "base_uri": "https://localhost:8080/"
        },
        "id": "STVczFTcc8lc",
        "outputId": "edd7e110-43aa-4e4d-cc98-4647762799bc"
      },
      "source": [
        "b_trde"
      ],
      "execution_count": null,
      "outputs": [
        {
          "output_type": "execute_result",
          "data": {
            "text/plain": [
              "3"
            ]
          },
          "metadata": {
            "tags": []
          },
          "execution_count": 9
        }
      ]
    },
    {
      "cell_type": "code",
      "metadata": {
        "colab": {
          "base_uri": "https://localhost:8080/"
        },
        "id": "p7WAgkpCc-2e",
        "outputId": "c870a16a-60c5-4fe3-d179-b6811d11644f"
      },
      "source": [
        "c = np.array([[1,2,3],[4,5,6]])\r\n",
        "print(c)\r\n",
        "print(c.shape)\r\n",
        "print(c[1][1])"
      ],
      "execution_count": null,
      "outputs": [
        {
          "output_type": "stream",
          "text": [
            "[[1 2 3]\n",
            " [4 5 6]]\n",
            "(2, 3)\n",
            "5\n"
          ],
          "name": "stdout"
        }
      ]
    },
    {
      "cell_type": "code",
      "metadata": {
        "colab": {
          "base_uri": "https://localhost:8080/"
        },
        "id": "fLqo17iBeQt0",
        "outputId": "6c23ad8e-2c58-4e24-9ef8-72a81dbc368e"
      },
      "source": [
        "#different types of array\r\n",
        "\r\n",
        "#zeros\r\n",
        "z = np.zeros((3,3))\r\n",
        "print(z)\r\n",
        "\r\n",
        "#ones \r\n",
        "ones = np.ones((2,3))\r\n",
        "print(ones)\r\n",
        "\r\n",
        "#Array of some constants\r\n",
        "constMatrix = np.full((3,3),4)\r\n",
        "print(constMatrix)\r\n",
        "\r\n",
        " \r\n",
        "#Identity matrix\r\n",
        "identityMatrix = np.eye(4)\r\n",
        "print(identityMatrix)\r\n",
        "\r\n",
        "#Rondom matrix\r\n",
        "randomMatrix = np.random.random((2,3))\r\n",
        "print(randomMatrix)"
      ],
      "execution_count": null,
      "outputs": [
        {
          "output_type": "stream",
          "text": [
            "[[0. 0. 0.]\n",
            " [0. 0. 0.]\n",
            " [0. 0. 0.]]\n",
            "[[1. 1. 1.]\n",
            " [1. 1. 1.]]\n",
            "[[4 4 4]\n",
            " [4 4 4]\n",
            " [4 4 4]]\n",
            "[[1. 0. 0. 0.]\n",
            " [0. 1. 0. 0.]\n",
            " [0. 0. 1. 0.]\n",
            " [0. 0. 0. 1.]]\n",
            "[[0.47812512 0.21503231 0.7001479 ]\n",
            " [0.3594558  0.66182566 0.79850239]]\n"
          ],
          "name": "stdout"
        }
      ]
    },
    {
      "cell_type": "code",
      "metadata": {
        "colab": {
          "base_uri": "https://localhost:8080/"
        },
        "id": "uN3kX601fmUi",
        "outputId": "0d493cd6-8b09-4556-c7bb-dc2592db0d0a"
      },
      "source": [
        "#for all rows print 2nd column\r\n",
        "print(randomMatrix[:,2])"
      ],
      "execution_count": null,
      "outputs": [
        {
          "output_type": "stream",
          "text": [
            "[0.7001479  0.79850239]\n"
          ],
          "name": "stdout"
        }
      ]
    },
    {
      "cell_type": "code",
      "metadata": {
        "colab": {
          "base_uri": "https://localhost:8080/"
        },
        "id": "fRtOtXzDeG5Z",
        "outputId": "8ee877f2-32b7-439f-aec9-88a880c90e25"
      },
      "source": [
        "zero = np.zeros((3,3))\r\n",
        "print(zero)\r\n",
        "\r\n",
        "zero[1,:]=5\r\n",
        "zero[:,-1]=7\r\n",
        "print(zero)\r\n",
        "print(zero.dtype)"
      ],
      "execution_count": null,
      "outputs": [
        {
          "output_type": "stream",
          "text": [
            "[[0. 0. 0.]\n",
            " [0. 0. 0.]\n",
            " [0. 0. 0.]]\n",
            "[[0. 0. 7.]\n",
            " [5. 5. 7.]\n",
            " [0. 0. 7.]]\n",
            "float64\n"
          ],
          "name": "stdout"
        }
      ]
    },
    {
      "cell_type": "code",
      "metadata": {
        "colab": {
          "base_uri": "https://localhost:8080/"
        },
        "id": "KSjltyEBfObZ",
        "outputId": "4b64bee0-9490-42c4-ea7d-e3c93c28798e"
      },
      "source": [
        "zero = np.zeros((3,3), dtype = np.int64)\r\n",
        "print(zero)\r\n",
        "\r\n",
        "zero[1,:]=5\r\n",
        "zero[:,-1]=7\r\n",
        "print(zero)\r\n",
        "print(zero.dtype)"
      ],
      "execution_count": null,
      "outputs": [
        {
          "output_type": "stream",
          "text": [
            "[[0 0 0]\n",
            " [0 0 0]\n",
            " [0 0 0]]\n",
            "[[0 0 7]\n",
            " [5 5 7]\n",
            " [0 0 7]]\n",
            "int64\n"
          ],
          "name": "stdout"
        }
      ]
    },
    {
      "cell_type": "code",
      "metadata": {
        "colab": {
          "base_uri": "https://localhost:8080/"
        },
        "id": "iQZ-9BcxfSex",
        "outputId": "282ce313-7394-43e1-9cd3-07b7bc532ac8"
      },
      "source": [
        "#Mathematical operations\r\n",
        "x = np.array([[1,2,3],[4,5,6]])\r\n",
        "y = np.array([[7,8,9],[1,2,3]])\r\n",
        "\r\n",
        "#Element wise addition\r\n",
        "x+y"
      ],
      "execution_count": null,
      "outputs": [
        {
          "output_type": "execute_result",
          "data": {
            "text/plain": [
              "array([[ 8, 10, 12],\n",
              "       [ 5,  7,  9]])"
            ]
          },
          "metadata": {
            "tags": []
          },
          "execution_count": 15
        }
      ]
    },
    {
      "cell_type": "code",
      "metadata": {
        "colab": {
          "base_uri": "https://localhost:8080/"
        },
        "id": "uIyD6fKBhUE0",
        "outputId": "e6e0cf21-358a-49b5-b82d-f071015a8e7c"
      },
      "source": [
        "print(np.add(x,y))"
      ],
      "execution_count": null,
      "outputs": [
        {
          "output_type": "stream",
          "text": [
            "[[ 8 10 12]\n",
            " [ 5  7  9]]\n"
          ],
          "name": "stdout"
        }
      ]
    },
    {
      "cell_type": "code",
      "metadata": {
        "colab": {
          "base_uri": "https://localhost:8080/"
        },
        "id": "CxwPmWLdht5L",
        "outputId": "d9904d16-92ba-4c55-bea6-897ad4e8c8ee"
      },
      "source": [
        "#Element wise subtraction\r\n",
        "print(x-y)\r\n",
        "print(np.subtract(x,y))"
      ],
      "execution_count": null,
      "outputs": [
        {
          "output_type": "stream",
          "text": [
            "[[-6 -6 -6]\n",
            " [ 3  3  3]]\n",
            "[[-6 -6 -6]\n",
            " [ 3  3  3]]\n"
          ],
          "name": "stdout"
        }
      ]
    },
    {
      "cell_type": "code",
      "metadata": {
        "colab": {
          "base_uri": "https://localhost:8080/"
        },
        "id": "NtDZLZzTh6qb",
        "outputId": "b5ddbced-0c97-460d-829b-3c01aa8b9ca3"
      },
      "source": [
        "#Element wise multiplication\r\n",
        "print(x*y)\r\n",
        "print(np.multiply(x,y))\r\n",
        "\r\n",
        "#Element wise division\r\n",
        "print(x/y)\r\n",
        "print(np.divide(x,y))"
      ],
      "execution_count": null,
      "outputs": [
        {
          "output_type": "stream",
          "text": [
            "[[ 7 16 27]\n",
            " [ 4 10 18]]\n",
            "[[ 7 16 27]\n",
            " [ 4 10 18]]\n",
            "[[0.14285714 0.25       0.33333333]\n",
            " [4.         2.5        2.        ]]\n",
            "[[0.14285714 0.25       0.33333333]\n",
            " [4.         2.5        2.        ]]\n"
          ],
          "name": "stdout"
        }
      ]
    },
    {
      "cell_type": "code",
      "metadata": {
        "colab": {
          "base_uri": "https://localhost:8080/"
        },
        "id": "6ZpJSh-rl3Y8",
        "outputId": "a2bca194-b7de-4d24-929a-c52b517578e9"
      },
      "source": [
        "# Sqrt of a matrix\r\n",
        "print(np.sqrt(x))"
      ],
      "execution_count": null,
      "outputs": [
        {
          "output_type": "stream",
          "text": [
            "[[1.         1.41421356 1.73205081]\n",
            " [2.         2.23606798 2.44948974]]\n"
          ],
          "name": "stdout"
        }
      ]
    },
    {
      "cell_type": "code",
      "metadata": {
        "colab": {
          "base_uri": "https://localhost:8080/"
        },
        "id": "NV33dPk1mWk_",
        "outputId": "1688e63d-f7dc-4ac1-99c5-3904dd5f523c"
      },
      "source": [
        "#Matrix multiplication/ Dot product\r\n",
        "\r\n",
        "print(x)\r\n",
        "print(y)\r\n",
        "\r\n",
        "#print(x.dot(y))\r\n",
        "#print(np.dot(x,y)) --throws error 'col of 1st matrix must be equal row of 2nd matrix' \r\n",
        "\r\n",
        "x = np.array([[1,2,3],[4,5,6],[7,8,9]])\r\n",
        "y = np.array([[9,8,7],[6,5,4],[3,2,1]])\r\n",
        "\r\n",
        "print(x.dot(y))\r\n",
        "print(np.dot(x,y))"
      ],
      "execution_count": null,
      "outputs": [
        {
          "output_type": "stream",
          "text": [
            "[[1 2 3]\n",
            " [4 5 6]]\n",
            "[[7 8 9]\n",
            " [1 2 3]]\n",
            "[[ 30  24  18]\n",
            " [ 84  69  54]\n",
            " [138 114  90]]\n",
            "[[ 30  24  18]\n",
            " [ 84  69  54]\n",
            " [138 114  90]]\n"
          ],
          "name": "stdout"
        }
      ]
    },
    {
      "cell_type": "code",
      "metadata": {
        "colab": {
          "base_uri": "https://localhost:8080/"
        },
        "id": "OZ8liEManB1f",
        "outputId": "758712a8-95ba-4819-e2c7-c2bbf2e859b9"
      },
      "source": [
        "x = np.array([[1,2,3],[4,5,6]])\r\n",
        "y = np.array([[9,8,7],[6,5,4],[3,2,1]])\r\n",
        "\r\n",
        "print(x.dot(y))\r\n",
        "print(np.dot(x,y))\r\n"
      ],
      "execution_count": null,
      "outputs": [
        {
          "output_type": "stream",
          "text": [
            "[[30 24 18]\n",
            " [84 69 54]]\n",
            "[[30 24 18]\n",
            " [84 69 54]]\n"
          ],
          "name": "stdout"
        }
      ]
    },
    {
      "cell_type": "code",
      "metadata": {
        "colab": {
          "base_uri": "https://localhost:8080/"
        },
        "id": "FoVIutZUpyj-",
        "outputId": "c534e9d1-b9a5-40ca-bc6c-1f0ad0e761a0"
      },
      "source": [
        "#multiplication of vectors => is scaler\r\n",
        "\r\n",
        "a = np.array([1,2,3,4])\r\n",
        "b = np.array([5,6,7,8])\r\n",
        "print(a.dot(b))"
      ],
      "execution_count": null,
      "outputs": [
        {
          "output_type": "stream",
          "text": [
            "70\n"
          ],
          "name": "stdout"
        }
      ]
    },
    {
      "cell_type": "code",
      "metadata": {
        "colab": {
          "base_uri": "https://localhost:8080/"
        },
        "id": "bUpYxQLI7gdQ",
        "outputId": "de96786d-6441-4572-989f-74072e2ba5cd"
      },
      "source": [
        "print(a)\r\n",
        "print(sum(a))"
      ],
      "execution_count": null,
      "outputs": [
        {
          "output_type": "stream",
          "text": [
            "[1 2 3 4]\n",
            "10\n"
          ],
          "name": "stdout"
        }
      ]
    },
    {
      "cell_type": "code",
      "metadata": {
        "colab": {
          "base_uri": "https://localhost:8080/"
        },
        "id": "l-fj8Mq17w8F",
        "outputId": "422602db-5ecb-4ac1-b6e6-d982cf86eee7"
      },
      "source": [
        "print(np.sum(x))"
      ],
      "execution_count": null,
      "outputs": [
        {
          "output_type": "stream",
          "text": [
            "21\n"
          ],
          "name": "stdout"
        }
      ]
    },
    {
      "cell_type": "code",
      "metadata": {
        "colab": {
          "base_uri": "https://localhost:8080/"
        },
        "id": "miP8IR5ODDXi",
        "outputId": "c1e33887-942b-4dc9-b6cf-26410f9b77b2"
      },
      "source": [
        "print(np.sum(y, axis=0)) #sum along columns"
      ],
      "execution_count": null,
      "outputs": [
        {
          "output_type": "stream",
          "text": [
            "[18 15 12]\n"
          ],
          "name": "stdout"
        }
      ]
    },
    {
      "cell_type": "code",
      "metadata": {
        "colab": {
          "base_uri": "https://localhost:8080/"
        },
        "id": "IHD4lxj9D1Y9",
        "outputId": "92e4874f-4b30-49ac-eaf7-c9ffc10fcd5c"
      },
      "source": [
        "print(np.sum(y, axis =1))  #sum along rows"
      ],
      "execution_count": null,
      "outputs": [
        {
          "output_type": "stream",
          "text": [
            "[24 15  6]\n"
          ],
          "name": "stdout"
        }
      ]
    },
    {
      "cell_type": "code",
      "metadata": {
        "colab": {
          "base_uri": "https://localhost:8080/"
        },
        "id": "74uY5_1MECNk",
        "outputId": "5e1e7fa4-0edd-4bc7-c1ae-53ad488b84c1"
      },
      "source": [
        "#Stacking of arrays\r\n",
        "print(a)\r\n",
        "a = a**2\r\n",
        "print(a)\r\n",
        "print(b)"
      ],
      "execution_count": null,
      "outputs": [
        {
          "output_type": "stream",
          "text": [
            "[1 2 3 4]\n",
            "[ 1  4  9 16]\n",
            "[5 6 7 8]\n"
          ],
          "name": "stdout"
        }
      ]
    },
    {
      "cell_type": "code",
      "metadata": {
        "colab": {
          "base_uri": "https://localhost:8080/"
        },
        "id": "ZWWRi_EMEn-e",
        "outputId": "9c36f455-2551-49d8-9cbc-d798f9f51420"
      },
      "source": [
        "np.stack((a,b), axis = 0) #stacking array horizontally"
      ],
      "execution_count": null,
      "outputs": [
        {
          "output_type": "execute_result",
          "data": {
            "text/plain": [
              "array([[ 1,  4,  9, 16],\n",
              "       [ 5,  6,  7,  8]])"
            ]
          },
          "metadata": {
            "tags": []
          },
          "execution_count": 28
        }
      ]
    },
    {
      "cell_type": "code",
      "metadata": {
        "colab": {
          "base_uri": "https://localhost:8080/"
        },
        "id": "d-ZWuU6CFNwJ",
        "outputId": "71c8ccb1-98a5-4753-85d1-f16de86119a7"
      },
      "source": [
        "#stacking array vertically\r\n",
        "np.stack((a,b), axis = 1)"
      ],
      "execution_count": null,
      "outputs": [
        {
          "output_type": "execute_result",
          "data": {
            "text/plain": [
              "array([[ 1,  5],\n",
              "       [ 4,  6],\n",
              "       [ 9,  7],\n",
              "       [16,  8]])"
            ]
          },
          "metadata": {
            "tags": []
          },
          "execution_count": 29
        }
      ]
    },
    {
      "cell_type": "code",
      "metadata": {
        "id": "Ozf1JgyWF0ps"
      },
      "source": [
        "c = np.array([1,2,3,4])"
      ],
      "execution_count": null,
      "outputs": []
    },
    {
      "cell_type": "code",
      "metadata": {
        "colab": {
          "base_uri": "https://localhost:8080/"
        },
        "id": "B95dRZUfF_O7",
        "outputId": "7e997eba-3e8e-4290-9639-356b364a3214"
      },
      "source": [
        "np.stack((a,b,c), axis = 0)"
      ],
      "execution_count": null,
      "outputs": [
        {
          "output_type": "execute_result",
          "data": {
            "text/plain": [
              "array([[ 1,  4,  9, 16],\n",
              "       [ 5,  6,  7,  8],\n",
              "       [ 1,  2,  3,  4]])"
            ]
          },
          "metadata": {
            "tags": []
          },
          "execution_count": 31
        }
      ]
    },
    {
      "cell_type": "code",
      "metadata": {
        "colab": {
          "base_uri": "https://localhost:8080/"
        },
        "id": "txAW5AFbGDEp",
        "outputId": "2f5c330a-4b4f-4528-fee7-30e3d2a3b25c"
      },
      "source": [
        "np.stack((a,b,c), axis = 1)"
      ],
      "execution_count": null,
      "outputs": [
        {
          "output_type": "execute_result",
          "data": {
            "text/plain": [
              "array([[ 1,  5,  1],\n",
              "       [ 4,  6,  2],\n",
              "       [ 9,  7,  3],\n",
              "       [16,  8,  4]])"
            ]
          },
          "metadata": {
            "tags": []
          },
          "execution_count": 32
        }
      ]
    },
    {
      "cell_type": "code",
      "metadata": {
        "id": "6EU3fBksGHXs"
      },
      "source": [
        "#Reshape a numpy array\r\n",
        "r = np.stack((a,b), axis = 0)"
      ],
      "execution_count": null,
      "outputs": []
    },
    {
      "cell_type": "code",
      "metadata": {
        "colab": {
          "base_uri": "https://localhost:8080/"
        },
        "id": "JZla9F46Ipha",
        "outputId": "240fed80-ce64-4624-c51d-6bd7a847a435"
      },
      "source": [
        "r"
      ],
      "execution_count": null,
      "outputs": [
        {
          "output_type": "execute_result",
          "data": {
            "text/plain": [
              "array([[ 1,  4,  9, 16],\n",
              "       [ 5,  6,  7,  8]])"
            ]
          },
          "metadata": {
            "tags": []
          },
          "execution_count": 34
        }
      ]
    },
    {
      "cell_type": "code",
      "metadata": {
        "colab": {
          "base_uri": "https://localhost:8080/"
        },
        "id": "9RX21yixIqza",
        "outputId": "da260b79-3a96-40b5-e52a-dcc43acfd096"
      },
      "source": [
        "r.reshape((4,2))"
      ],
      "execution_count": null,
      "outputs": [
        {
          "output_type": "execute_result",
          "data": {
            "text/plain": [
              "array([[ 1,  4],\n",
              "       [ 9, 16],\n",
              "       [ 5,  6],\n",
              "       [ 7,  8]])"
            ]
          },
          "metadata": {
            "tags": []
          },
          "execution_count": 35
        }
      ]
    },
    {
      "cell_type": "code",
      "metadata": {
        "colab": {
          "base_uri": "https://localhost:8080/"
        },
        "id": "GeaAMe5TJN8N",
        "outputId": "56563bea-71d9-4880-d44d-1bc3abc88a61"
      },
      "source": [
        "r.reshape((4,-1))"
      ],
      "execution_count": null,
      "outputs": [
        {
          "output_type": "execute_result",
          "data": {
            "text/plain": [
              "array([[ 1,  4],\n",
              "       [ 9, 16],\n",
              "       [ 5,  6],\n",
              "       [ 7,  8]])"
            ]
          },
          "metadata": {
            "tags": []
          },
          "execution_count": 36
        }
      ]
    },
    {
      "cell_type": "code",
      "metadata": {
        "colab": {
          "base_uri": "https://localhost:8080/"
        },
        "id": "mKrRuCLJJtXY",
        "outputId": "042ef9bf-0a67-4b4d-fdc5-bf664987ffb2"
      },
      "source": [
        "r.reshape((8,-1))"
      ],
      "execution_count": null,
      "outputs": [
        {
          "output_type": "execute_result",
          "data": {
            "text/plain": [
              "array([[ 1],\n",
              "       [ 4],\n",
              "       [ 9],\n",
              "       [16],\n",
              "       [ 5],\n",
              "       [ 6],\n",
              "       [ 7],\n",
              "       [ 8]])"
            ]
          },
          "metadata": {
            "tags": []
          },
          "execution_count": 37
        }
      ]
    },
    {
      "cell_type": "code",
      "metadata": {
        "colab": {
          "base_uri": "https://localhost:8080/"
        },
        "id": "h6QfDe3_JywO",
        "outputId": "7fa62958-88ad-4659-b62b-0a47bdce5d63"
      },
      "source": [
        "r.reshape((8,1))"
      ],
      "execution_count": null,
      "outputs": [
        {
          "output_type": "execute_result",
          "data": {
            "text/plain": [
              "array([[ 1],\n",
              "       [ 4],\n",
              "       [ 9],\n",
              "       [16],\n",
              "       [ 5],\n",
              "       [ 6],\n",
              "       [ 7],\n",
              "       [ 8]])"
            ]
          },
          "metadata": {
            "tags": []
          },
          "execution_count": 38
        }
      ]
    },
    {
      "cell_type": "code",
      "metadata": {
        "colab": {
          "base_uri": "https://localhost:8080/"
        },
        "id": "9CZ8G7QUJ2RK",
        "outputId": "dfb257bb-639c-4ce0-8b09-02875fffdea7"
      },
      "source": [
        "r.reshape((-1,8))"
      ],
      "execution_count": null,
      "outputs": [
        {
          "output_type": "execute_result",
          "data": {
            "text/plain": [
              "array([[ 1,  4,  9, 16,  5,  6,  7,  8]])"
            ]
          },
          "metadata": {
            "tags": []
          },
          "execution_count": 39
        }
      ]
    },
    {
      "cell_type": "code",
      "metadata": {
        "colab": {
          "base_uri": "https://localhost:8080/"
        },
        "id": "EGmCH1B2J6Gy",
        "outputId": "b0fbcc34-3b0b-46dd-9497-cccafc3faa7e"
      },
      "source": [
        "r.reshape((8,))"
      ],
      "execution_count": null,
      "outputs": [
        {
          "output_type": "execute_result",
          "data": {
            "text/plain": [
              "array([ 1,  4,  9, 16,  5,  6,  7,  8])"
            ]
          },
          "metadata": {
            "tags": []
          },
          "execution_count": 40
        }
      ]
    },
    {
      "cell_type": "code",
      "metadata": {
        "colab": {
          "base_uri": "https://localhost:8080/",
          "height": 162
        },
        "id": "HoZpsehyJ8_t",
        "outputId": "f902420d-5fa8-4cd3-d538-09396cf55902"
      },
      "source": [
        "r.reshape((4,))"
      ],
      "execution_count": null,
      "outputs": [
        {
          "output_type": "error",
          "ename": "ValueError",
          "evalue": "ignored",
          "traceback": [
            "\u001b[0;31m---------------------------------------------------------------------------\u001b[0m",
            "\u001b[0;31mValueError\u001b[0m                                Traceback (most recent call last)",
            "\u001b[0;32m<ipython-input-41-9f9e969c4195>\u001b[0m in \u001b[0;36m<module>\u001b[0;34m()\u001b[0m\n\u001b[0;32m----> 1\u001b[0;31m \u001b[0mr\u001b[0m\u001b[0;34m.\u001b[0m\u001b[0mreshape\u001b[0m\u001b[0;34m(\u001b[0m\u001b[0;34m(\u001b[0m\u001b[0;36m4\u001b[0m\u001b[0;34m,\u001b[0m\u001b[0;34m)\u001b[0m\u001b[0;34m)\u001b[0m\u001b[0;34m\u001b[0m\u001b[0;34m\u001b[0m\u001b[0m\n\u001b[0m",
            "\u001b[0;31mValueError\u001b[0m: cannot reshape array of size 8 into shape (4,)"
          ]
        }
      ]
    },
    {
      "cell_type": "markdown",
      "metadata": {
        "id": "UAtkR4cnKRLy"
      },
      "source": [
        "# **Numpy Random Module**\r\n",
        "\r\n",
        "Simple random data\r\n",
        "1.   rand(d0, d1, …, dn): Random values in a given shape. \r\n",
        "2.   randn(d0, d1, …, dn): Return a sample (or samples) from the “standard normal” distribution.\r\n",
        "3. randint(low[, high, size, dtype]):\tReturn random integers from low (inclusive) to high (exclusive).\r\n",
        "4. random_integers(low[, high, size]):\tRandom integers of type np.int between low and high, inclusive.\r\n",
        "5. random_sample([size]):\tReturn random floats in the half-open interval [0.0, 1.0).\r\n",
        "6. random([size]):\tReturn random floats in the half-open interval [0.0, 1.0).\r\n",
        "7. ranf([size]):\tReturn random floats in the half-open interval [0.0, 1.0).\r\n",
        "8. sample([size]):\tReturn random floats in the half-open interval [0.0, 1.0).\r\n",
        "9. choice(a[, size, replace, p]):\tGenerates a random sample from a given 1-D array\r\n",
        "10. bytes(length):\tReturn random bytes.\r\n",
        "\r\n",
        "Permutations\r\n",
        "\r\n",
        "\r\n",
        "\r\n",
        "1.   shuffle(x):\tModify a sequence in-place by shuffling its contents.\r\n",
        "2.   permutation(x):\tRandomly permute a sequence, or return a permuted range.\r\n",
        "\r\n",
        "\r\n",
        "\r\n",
        "For more refer https://numpy.org/doc/1.16/reference/routines.random.html \r\n",
        "\r\n"
      ]
    },
    {
      "cell_type": "code",
      "metadata": {
        "colab": {
          "base_uri": "https://localhost:8080/"
        },
        "id": "jJMzk-nrJ_dl",
        "outputId": "c201d400-ec7e-49f3-8ae5-81083a2abd14"
      },
      "source": [
        "a = np.arange(10) + 5\r\n",
        "a"
      ],
      "execution_count": null,
      "outputs": [
        {
          "output_type": "execute_result",
          "data": {
            "text/plain": [
              "array([ 5,  6,  7,  8,  9, 10, 11, 12, 13, 14])"
            ]
          },
          "metadata": {
            "tags": []
          },
          "execution_count": 42
        }
      ]
    },
    {
      "cell_type": "code",
      "metadata": {
        "colab": {
          "base_uri": "https://localhost:8080/"
        },
        "id": "mgL10BqxNbiw",
        "outputId": "16a8af48-aff6-4d1a-951a-1b7a37281daa"
      },
      "source": [
        "b = np.random.randint(5,15,size =10)\r\n",
        "b"
      ],
      "execution_count": null,
      "outputs": [
        {
          "output_type": "execute_result",
          "data": {
            "text/plain": [
              "array([ 6,  6,  7, 10, 13, 12, 10,  7, 12, 11])"
            ]
          },
          "metadata": {
            "tags": []
          },
          "execution_count": 43
        }
      ]
    },
    {
      "cell_type": "code",
      "metadata": {
        "colab": {
          "base_uri": "https://localhost:8080/"
        },
        "id": "z3Y5e04DN8zK",
        "outputId": "e2f8cd66-25e8-444f-e980-6b7a1011dc1e"
      },
      "source": [
        "#Shuffling the content of array a\r\n",
        "np.random.shuffle(a)\r\n",
        "a"
      ],
      "execution_count": null,
      "outputs": [
        {
          "output_type": "execute_result",
          "data": {
            "text/plain": [
              "array([14, 11,  8,  6, 10,  5,  9, 13,  7, 12])"
            ]
          },
          "metadata": {
            "tags": []
          },
          "execution_count": 44
        }
      ]
    },
    {
      "cell_type": "code",
      "metadata": {
        "colab": {
          "base_uri": "https://localhost:8080/"
        },
        "id": "IsLA_RNxOHJ0",
        "outputId": "4c427629-5d1f-453a-eb8c-7d24e2b8e2cf"
      },
      "source": [
        "#returns a value randomly in a given shape\r\n",
        "c = np.random.rand(2,3)\r\n",
        "c"
      ],
      "execution_count": null,
      "outputs": [
        {
          "output_type": "execute_result",
          "data": {
            "text/plain": [
              "array([[0.82434346, 0.44613754, 0.94573027],\n",
              "       [0.51190157, 0.18968737, 0.95054403]])"
            ]
          },
          "metadata": {
            "tags": []
          },
          "execution_count": 45
        }
      ]
    },
    {
      "cell_type": "code",
      "metadata": {
        "colab": {
          "base_uri": "https://localhost:8080/"
        },
        "id": "uY4GQktMOJPN",
        "outputId": "84568d29-f32e-4b2c-991f-b554744aede5"
      },
      "source": [
        "#return a value randomly from a snd\r\n",
        "d = np.random.randn(2,3)\r\n",
        "d"
      ],
      "execution_count": null,
      "outputs": [
        {
          "output_type": "execute_result",
          "data": {
            "text/plain": [
              "array([[-0.0353936 , -1.12971361,  0.39903189],\n",
              "       [-1.89768328, -1.2157555 ,  2.36016629]])"
            ]
          },
          "metadata": {
            "tags": []
          },
          "execution_count": 46
        }
      ]
    },
    {
      "cell_type": "code",
      "metadata": {
        "colab": {
          "base_uri": "https://localhost:8080/",
          "height": 35
        },
        "id": "0scPf25XPXL-",
        "outputId": "9315ed9d-9925-4bf1-f21d-ad14c1378402"
      },
      "source": [
        "#randomly select one element from a array\r\n",
        "e = np.random.choice(['ML', 'DSA','Gate', 'Gate solution','Python', 'MERN']) # you can pass a integer value too\r\n",
        "e"
      ],
      "execution_count": null,
      "outputs": [
        {
          "output_type": "execute_result",
          "data": {
            "application/vnd.google.colaboratory.intrinsic+json": {
              "type": "string"
            },
            "text/plain": [
              "'Gate solution'"
            ]
          },
          "metadata": {
            "tags": []
          },
          "execution_count": 47
        }
      ]
    },
    {
      "cell_type": "code",
      "metadata": {
        "colab": {
          "base_uri": "https://localhost:8080/"
        },
        "id": "qci8YzFEQFSV",
        "outputId": "cda9807a-d619-4494-a11d-3ad73df68469"
      },
      "source": [
        "#Shuffling the content of array a\r\n",
        "np.random.seed(1)\r\n",
        "np.random.randint(2,9,size=3)\r\n",
        "a"
      ],
      "execution_count": null,
      "outputs": [
        {
          "output_type": "execute_result",
          "data": {
            "text/plain": [
              "array([14, 11,  8,  6, 10,  5,  9, 13,  7, 12])"
            ]
          },
          "metadata": {
            "tags": []
          },
          "execution_count": 48
        }
      ]
    },
    {
      "cell_type": "markdown",
      "metadata": {
        "id": "2Rw2p_EyqFlz"
      },
      "source": [
        "# **Statistical Computation using numpy**\r\n",
        "\r\n",
        "\r\n",
        "*   min, max\r\n",
        "*   mean, median, mode\r\n",
        "*   averages\r\n",
        "*   variance\r\n",
        "*   standard deviation\r\n",
        "\r\n",
        "\r\n",
        "\r\n"
      ]
    },
    {
      "cell_type": "code",
      "metadata": {
        "id": "3_7DDSJCQzRw"
      },
      "source": [
        "a = np.array([[1,2,3,4,5],[6,7,8,9,3]])"
      ],
      "execution_count": null,
      "outputs": []
    },
    {
      "cell_type": "code",
      "metadata": {
        "colab": {
          "base_uri": "https://localhost:8080/"
        },
        "id": "gJqCOX48rIv3",
        "outputId": "2e750faa-b327-4ed1-e0b4-90bb2d98229d"
      },
      "source": [
        "print(a)\r\n",
        "print(np.min(a))\r\n",
        "print(np.min(a, axis = 0))\r\n",
        "print(np.min(a, axis = 1))\r\n",
        "print(np.max(a))\r\n",
        "print(np.max(a, axis = 0))\r\n",
        "print(np.max(a, axis = 1))"
      ],
      "execution_count": null,
      "outputs": [
        {
          "output_type": "stream",
          "text": [
            "[[1 2 3 4 5]\n",
            " [6 7 8 9 3]]\n",
            "1\n",
            "[1 2 3 4 3]\n",
            "[1 3]\n",
            "9\n",
            "[6 7 8 9 5]\n",
            "[5 9]\n"
          ],
          "name": "stdout"
        }
      ]
    },
    {
      "cell_type": "code",
      "metadata": {
        "colab": {
          "base_uri": "https://localhost:8080/"
        },
        "id": "8HBeEEtBrOFL",
        "outputId": "296f0867-17a7-40bf-d587-a6d4399be576"
      },
      "source": [
        "mean = np.mean(a)\r\n",
        "print(mean)"
      ],
      "execution_count": null,
      "outputs": [
        {
          "output_type": "stream",
          "text": [
            "4.8\n"
          ],
          "name": "stdout"
        }
      ]
    },
    {
      "cell_type": "code",
      "metadata": {
        "colab": {
          "base_uri": "https://localhost:8080/"
        },
        "id": "Sjrsrb2HTy5-",
        "outputId": "a2ed8967-0702-42e8-f202-9c74c5f27bda"
      },
      "source": [
        "mean = sum(sum(a))/10\r\n",
        "mean"
      ],
      "execution_count": null,
      "outputs": [
        {
          "output_type": "execute_result",
          "data": {
            "text/plain": [
              "4.8"
            ]
          },
          "metadata": {
            "tags": []
          },
          "execution_count": 52
        }
      ]
    },
    {
      "cell_type": "code",
      "metadata": {
        "colab": {
          "base_uri": "https://localhost:8080/"
        },
        "id": "eiJ3XbGeT7dm",
        "outputId": "aacd4b49-63be-4a49-c720-ef8c7ab63383"
      },
      "source": [
        "#for one dimensional array\r\n",
        "f = np.array([1,2,3,4,5])\r\n",
        "mean_c = sum(f)/5\r\n",
        "mean_np = np.mean(f)\r\n",
        "print(f\"mean_c:{mean_c}  mean_np:{mean_np}\".format(mean_c, mean_np))"
      ],
      "execution_count": null,
      "outputs": [
        {
          "output_type": "stream",
          "text": [
            "mean_c:3.0  mean_np:3.0\n"
          ],
          "name": "stdout"
        }
      ]
    },
    {
      "cell_type": "code",
      "metadata": {
        "colab": {
          "base_uri": "https://localhost:8080/"
        },
        "id": "kIi1aUbYUjgq",
        "outputId": "8294a268-103e-4564-9247-97c7f5abcbec"
      },
      "source": [
        "np.average(f)"
      ],
      "execution_count": null,
      "outputs": [
        {
          "output_type": "execute_result",
          "data": {
            "text/plain": [
              "3.0"
            ]
          },
          "metadata": {
            "tags": []
          },
          "execution_count": 54
        }
      ]
    },
    {
      "cell_type": "markdown",
      "metadata": {
        "id": "ItU2dqMXXPuP"
      },
      "source": [
        "![weighted-mean-formula.png](data:image/png;base64,iVBORw0KGgoAAAANSUhEUgAAAY4AAAD/CAYAAADmDTGsAAAABHNCSVQICAgIfAhkiAAAIABJREFUeJzt3Xd8VFX+//HXpDdapIbQe5Em0osoTUAEGwJrwbbiT1h3ravLurpfxV5WWVgrFkRdFFSUIoIoSIkgTboEQicmAULqJHN+f9xhM4EZmAvJJBnez8cjD8I9t3zuncn93HvKvQ5jjEFERMRPIWUdgIiIVCxKHCIiYosSh4iI2KLEISIitihxiIiILUocIiJiixKHiIjYosQhIiK2KHGIiIgtShwiImKLEkewKNgPYxpAdBv4Lt3uwrD8fbjnakgIg4YPQm6pROmHQlj3GfzlRmgSC3EjIbOsYpHyxcDepfDkXdC+Ojg6QHJBWQd1QVLiKCnObdDaAQ6Pn9ArwPMcnr8FWjjA0RZ2OIumZy6Cyp7LhsLsDHvbz94Is1MgdzPM2Wk3eNh9AMKy4GAhlOnTy1yQkgKRBnZlg8vmsu90Kf4ZOEJhVprvRXa9csr8Drh0GhSe734EQh78venp8Xv76fxGBdmnM3HBztVwIB02p1HGX9QLmhJHSQlvAWv3wR/rWv8f+QXkfwfxHvPs+xa2A/wKiw8WTa/UH45mw786Qlgv+DUdRlazt/1KveHl22H4RPhLB5vBR8PYR2DiYJvLAYcWwb/mQ4ld+IXD8D/DI2POYdkQuG015G6C5kAUgAtmrvRxjimEHz6DyDru/9eC79Ig6W4IPcfwAyoSHl4JyUugkXvSq+vgwIGin13fQv0yDbIEhUK/B+HlR6BWWcdyYVPiKElRdWFUX+v3zRtOucIrhO8/Lvrvx8uKX02HGNi4D1pfB82r2N+2Ixbufgu+eBUaRZxD8OciD16/G56bD86zzx0woXEQEw5XuZPP/Dcgw0vmKDwA/1kN19wGEQCxUCM2kJGev9jqkNgITn5lqtWGOnWKfhp1hlbhZRqiBB8ljpLW9moIA7bNhVSPzGHSYeYv0GUUOIBVM+Gox8nMuQ+W/Q79elrLl3sG9syGf/9W1oH41vgaaANkfwtLvbT77JsLa6rDOLt3aBVJLNz2ANzQRn/tUmL0VSpp1TpDa4D1sPZ40fRjq2GlgQn3Qycg50dY69Hqe/QX2BkDg5qdvs6sbfD4DZAYY9VXxzWCP74Bx9y3LMd/hX89AN0TwdEatuV7LOyCDe/DVR0gJsx7/fdls0/fZurP8NgoSAgHRxj0nADJee7CQpg1ChqOhgxg/6sQ415X48fg5Gxni/ukglSYei+0qemOKQxa3WXjoPsQ0QjGXQzkwBtLTqmuKoAv3oTao6BdjO91+LMPJhu+fAoubwNVwq35ouvB3dMhy2OjRzfDqxOgRYzVAWHfz/DodVA7wmqL6XYP7Mo7LYTzUhgCNzwND/W0LlgAcpLh6ZugUWUr1siaMPTPsPaoR6xbYMpfoH01q4PCsUyYOgoiHNDsbtj0HfztJmgQAQ3vg58+gVv7QdUQcETAoMfhSB5s+Azu6A9VHeCIgWFPQ/rJY2dg50J47CZoHAX17oMcd9GxTdZ3umuCl++0D/5+DnL+jJSwHGPur28MGHPHsqLJi/9gTGgXY1KyjXm2tVV+1/Ki8h9uscr3FhRf3dGfjOkUZkxcb2M+WWnMb5uMeWG4tXzPV4zJM8Zs/rcx1w8wJgxjaGnM1ryi5Tc8bU1v8v+M2ZNjTF6KMXe542s5yZg9B4xJy7Xm3fG8NZ1KxlRNMKbfMGMGdzUmBGv6JS8Zk+9eb+YhY5Y9bk2vNc6Y7SnGpKQYc/CY/3EbY0zuDmOGX2QMocbc/LIxa38zJmWbMZ8/aM0bPcKY4zY/AuduYzqEGzNpozE7X7bWE9HfmEOFRfPk7zDm4jBjHlxrzLFvjInAGBobsyHX3rE3eca82teaNupDYw6kGbN7uTEjL7Km/SXJvbJsYx7uYkz1KPcxjjEmrqYx3QcaM6SHMeHuY9z1NWOc57K/7uXfP1Q0/cRSY2rXN2ZVdtG0zJ+N6RFpDDWNeXmpMcdOGLN2ujFNMIZGxnx1yBiTY8xjbdxxYkzUQGOe7Ff0f/oY8/q9xgxuXTSt49XG/G2yMX+/zZjK7mnxCcZ0GGbMo08b88R4Y6q7p9++1B1MnjFv32vMlW2t6XX/ZMzJUDe8bMx1/Y0J9fKdzk4ypi7G0M6YXc6idfn1OUhJUOIoDYtutL6sTf9uTK4xxmQZc09tY9o8Z5141z9qldd/0JgcY4zJM+bJ5sY0ftQ9/0knjJlYzxjijfk6rWhy4UFj+oQYQzVjvnOfqHM3GdP0lD8yV5oxV0UbQ4Qxs1KLlj/0kTvJXGJMikeiOpk4ao4zJs3jJLvpGfcJ4pT5d71y+h+8rbjzjHmhs7WOOxca47FJc3ROySQO5y5jOmIMYcZ8eLBonq2TjQlrbMz6XB+Jw899cO4ypp37hPjIuqL5Nv/Tmtb8iaIk6XmMa9xiTKrHsdz4f+5j3MOYg54Hwt/99ZI49r1tTHgdj8SRZcxfGlrzjf/BGJfHOja5t1/5OmNS3ds/+RmAMVc8acz+XGP2LTDmsanW9/bkvtS73/09NsYYlzELx7r38U5jsjy2sXKie/6/eMxvfH+Pctcb08jPxGH3c5Dzoqqq0nDx1VavnJ3fwJFCyN0B3xyG4QMhHGh2NSQAKV/C7nxwpcPCZOh6BUR6rCd9Mby11+p11duje1ZIFbi4FpABi5J9x+E8BNtygIugnkejb6VGUB0gB3K89HeNughiPL4azYZBM4CjcMyP7lP+xp29Bp7/GWgPj/QrnYrTsHpw+yVAAbyx0N0hIR/+Ox0a3gQtIr0v5+8+hDWA//4I8xbA7U2K5qtaz/o384j3brDRNSDOo+tW08GQiLXe4+fRb/bm2kVVkIm3F++0kLEY/rMbaAh3XVpUdQXQ8iboDBz/DGbvL77O8AHw8d8gIRLqDoT/u9vdY83N4bkiB7To5T22Zr2tf4/uL8FeeG7n+jnIOakQzbAVTvyl0ArYtBHWHINW38DumjDc3X4R3RoGxMN72+Db/ZC4GzYB49sUX89viyAb4FOo/Kn3bR087n06QFg81AmF7amw6zh0ibamH/8NUoHq3aw2jLNxRFgJD+Nf13l/407+Dg4DdXpDndL6KobBsDvg3jWw7A04OBaqb4f3dsIto6xE7a1Zwe9jHwLNe1ndf3HCr9/CV1/D/C+seYyfx8wR7nGMz6M+/tnlMKK69fu+D6D/20VlOxZCFhDWHBpGFV8utDp0qgk/H4FvNsOd9YrKwmIh0oHfQn18lqHu75pxlcIQjBL6HMQvuuMoDWEJMCARyIM562DRLKhyObQ52QgbB6Mus3795AfYuRgym0CnU8ZuHHeP9WjzPOQX1TAX+3m3t+84QmrBk/8PKICHHoWd2ZCzC/72VyisDq89CXElu+u24j6yw5ov9qLSHTeROBS6Aq7l8M0B2PoRJLeA65ue/z4A5B+E18dDo0rQ/X74vSk8+MdS3KEzqNMEmje3frr2h5oeJ/GT+xRd1cslYyhc5L4rTc2omCfZ8vQ5BDkljlIRDVd2t379/gOYvgF6jip+kr50tDV2IOlD+PZbiO8F9U8ZfxFd1fr30Gbwo1PJ6RzQ50X48XWo/xk0i4Wa3WHXQPhuA9xY91xWenb+xh3uribKSCndcSChCXCn+/N487/w7gxofRs0PsPdlr/7kLcdhjaHCdPg8nfg4Hp44V64pM4ZFgqQ2L5wKKXoTrNSTevfnHQvx7sQ0rKsXy+qWrwaqyIoz59DEFLiKC3tRlhHd890+NnAjV2L/zHG94BLHZC/CJ5ZDR2HQPQp62jcx7oST1sEW3I4N2HQdbBVD/3CDsg8DIvfgstL8A/KdUrlsb9x1+9i/Zu22N0WU1pCYfCd1ueR9Bj8ez/cMdJdNeSDv/uw/jVYdAIuuhVeHQOx5fiM28TdhlawDXad8jCywjRYe8T6fUjrwMblcN9uFjrP/U6nIn0OQUCJo7ScbOcAoB30rl68PKQmjO5o/Z5uYEiH06/yag2B66sBe2Hi66f3Rd+7GP674+yxbJwGy47Cgikw5X34fj1k23oIlHcO99fn923FY/M37joDrQZZ9sC9rxWfL/P384/PU51B0CsUyAVnRxh+ludw+LsPue42pkq1ilf/nJpMy4OL+luN5+yF/6wofpLeMRN+BqpcB9cmBjauSnWsJH3oF0g/x+NWkT6HIKDEUVrCE+EKd1VQi2utp84WEwb9r3P/Xhd61j59HY54eOU9aAiseAg6jIBnpsBrk2F0N6g/ADa5r4aN091TxWnVyXsqcF9dfvsK3HsL9OsAsTXhDy8VH93uzCua33MVrjx3dY0T8j0STpWGVu8a57dw70vwzVcwbQbk+Rl3eCN47WFrXSsehuZ94O4JcGNf6PqYNT3/OOTZvAwtzIKcAkj3GGAZUhvudLdJdLsT6p38PAxkHHRX3WTB79nWZH+PfetroBKw+wNYdAhcObDsP3Dz0+5jmVP8WJ48xs5TjrHn5+e0ub+5aXDC/XtGlu/5HJXh2Y/h4hB48wZ49Uc4kQW/vAfDHwaawIwpUN19Wshzr9SV771HkjOn6F+Xl+kFp053fw8L84pPr9oFeoUDK2DU/fD5N/Dx63DHvZAMp32nXXnuzyu/aLrdz0HOT1n3Bw5qC661mlHvX+O9PGedMQ0xJuZqY46eYT1pq43505XG1Ai31hdX35gR9xmzOMXqi//9bcZEejbbRhhz/QJjjNOYrx82JjHemLveMubHb4155yVjbh9kTLR73vZPGZObbcyfWxVv+o27xJiNucYkTzOmkue6o4358yorLtcJY14Y6h4DEWpMox7G/GNO0SDBs8VtjDGmwJilzxnTsYZ7HEFzYya8aczOWUXbDKtnzHeZfhzwQmPevvSUJuxmxvzq7sB/cIYxEaHGvLPPPX+2MffWPb3Zu/NUY04OsTjrPhQY890/jGlWxRhCjGnVx5i/f2zMwZ+MqXMy/prGzD1gzIQWxbcT6z7Gm5855RhXMubZLX7srzFmwQgvzfY1jfkpy/cymVuM+dt1xtSNtuaPrGXM8AeMWXfyS5hnzAvdi68zLMqYy/7jHpyYZcyE5l72JduYjwYVnx7V2pikbGO+vdE9dsj9E1rdmI88xtXsmWVMb/dnEdvAmDH/MCbpB/c4Dowhzpj/W2/M1L7F10OEMSO/sfE5ZPh3XOWMHMacT98/KdcOzYRGY6DRZFj/SPE6/UOfQ5trIb0d/LYGGqtntoj4R1VVwWzr19YLmRpefHpDcM2u0ASIqA2VK8QzxEWknFDiCGZV3W0sSZ+e/ljxffNhPXD3JLhIPVBExH9KHMGszZ3QJxJ+fx9GToINhyErDb77F/SfCEOmwTM9K16ffREpU2rjCHbH18Okh2DGd5BWCGHVoMdQmPAIXKN3NIiIfUocIiJii643RUTEFiUOERGxRYlDRERsUeIQERFblDhERMQWJQ4REbFFiUNERGxR4hAREVuUOERExBYlDhERsUWJQ0REbFHiEBERW5Q4RETEFiUOERGxRYlDRERsUeIQERFblDhERMQWJQ4REbFFiUNERGxR4hAREVuUOERExBYlDpFSsm8P3D4Hot+ElzfDmFkQOQXiZsJHmWUdnci5U+IQKSWOUKjjgtx8WJ4NY3vAF32gajpMXA1ZZR2gyDlS4hApJXUT4cpqQDiMbw9DE2BwaxhfFdIyINOUdYQi50aJQySQHBAbav2qvCEVlRKHiIjYosQhIiK2KHGIiIgtShwipSQpCSbsBJxw/xLY5ISvfoIX04AjcOsKSFVDh1RADmOMvroiIuI33XGIiIgtShwiImKLEoeIiNiixCEiIrYocYiIiC1KHCIiYktYWQcgUiEYePczuO1wgLcbD9tHQTNd4kk5oq+jiIjYosQhIiK2KHGIiIgtShwiImKLGsdF/OGAlrUBX43jUfDPntAktGQ3GxYFdXR5J+WMHnIo4q9CmL4AxiV7L67XClb3g9qOwIYlEmi6lhHxVyjcMgAm1/ZevHcLDFoFR3UpJkFOiUPEBkc4PDQUJlb1Xr5hDVy7EXICG5ZIQClxiNgUEgUvDIcbor2XL/4Rxu0AZ2DDEgkYJQ6RcxBeCd4dAX19dC/5ZCE8sBdcgQ1LJCCUOETOUUw8zL4K2vgo/9dceCYV1OQhwUa9qkTO04HfoPN8OOitMBLevB7uqBLoqERKj+44RM5TQhNY3AdivRXmwZ1z4MvsQEclUnqUOERKQMuL4dvOPv6gTsDIL2F5XqCjEikdShwiJaR7F5jdynuZKw0GzofNBYGNSaQ0KHGIlBQHDO8LbzTwXpy9D/othr3qaiUVnBKHSEkKhTsGwZM1vRcf2QH9l0NakHVJSU+BBtPgpt3+dUFe9ytc/SlEvAXfacBLhaPEIVLCHOHw6DAYX9l7+fYNMGwtnAhsWKXOGP/HrdRPhJFx4NTdV4WkxCFSCkKj4ZURMDLKe/nKlTBmMwRLe3l8fUgZDzMa+ndSia8CzXyMvPdkcmHUDFhYVnclBnamQ77HJJcTtlzgz5RR4hApJRGV4IOroaePR61/tQTuSYbCwIZVoWzdDrOzym7769dA65lw52/WI2RMPjz9BbT+FL441y7WBr5ZCnWmgGMKtF4CB7Lhnk+t/3dcAgfLeVWmEodIKYqtDl8MgxY+yt+ZB/84HLjR5TOWQPwUcEyDq5MgC3Aeg3ZToN92q6opNQUGvAeOd+GRA1ZsxgkfLYM270Pj6ZA4C95Ot8qOpcI9cyF+KkxKK9pWYS48uwAungWdp1snRcc0aPYJvJvpnsnAll0wdhZEToGLPoWP3WU7f4WRK8DphFs/gZYz4bn0AB0otyYNoFsYvD8f7t0Bk7+GSYchIQE6+ribPCsHDOkLqy6HaKBebagZDZdVhUF9YVU/qFPOH82vxCFSyqIjrROEV2HQIBoCdZ4YexlMrglUhuc6WYMW9yTDRmDldsgAatSHRxJgaB+YnAAOF3ywAG47CG+Pgl23wEuxcMdXsMoJ0XEwOhEyXB4J0AXvLYBHj8GskZA0Bu6OAarA3OthXCX3fAXw4wm4tSfM7g0xqTB+JWQCTdvA9JbWMZo+CraOhofiA3Sg3OJqwNwR0DUU3lgIjx2AWs1g+eVQ/zzPnvVbwCt1YeFSeHQFPBkC77aBiJIJvVQpcYiUIlcuPDAP1vkov2kAjPPRiF4qHNCvCZABP+UCLvjyNxjfFnIPQFI+UACf/Q6j61gJLTcNJu2BwV2gW6S1joEtIewEzEiHiGhoV6V48nPlwjv7oEkjaBQKjgi4vi5wHPZ41s2Fw13tYEAdGNIW/hQPRzMgoxxV1VSKh5HVi/5/ZTOoVxJvegyBcf2gN/D8Jpjcq/zfaZykxCFSWlzwyRKYmum9uHlHeL0RlPDbZs+qfn1oAMxOBWcmfO6ACW2huRNmpkLuUVgRDX3dt0mpRyAFWLUSen9u/QxNghoxUHCGBhoXUOhxF+IsBKKhhq+zjgMqhwLG6qFVHhgnvDoPHjkM1WpBcwdM/wbu3Q0lMZYzNBKaRQJOmLanZNYZCHrnuEgp2bIRbt3lvSysFnzeFQJ5s3FSVFUYGA1zkmHLMQhpCs2qwrWV4Z2dsLUSxDYuegWuy91l9q4B8ISfVUUhUXBHIty+A9Z0hK4F8OYB6NMF2gY6U56Hn1bAn/dC9cbw00CofhgGfAHT5kH7P8Ddlc6+Dp8MfLoUkjvAq3vgT0vh47rwh7gSC7/U6I5DpBQcPwQjlxXvxvk/4fDOIGhTVifQMLiuLqTuhX9thxsaQlgoXNMIDifDv3fB8PpFV5XVq0NN4Ot9Nq6IQ+DWwTC1Ngz9BIZ/D017wdyLIdxuvC5wltEdSLcu8GxnK2k0C4VqCbDoGpjUD24+n6SB1fg/qRDeaw/j+0HPQrhnKewvJ3dbZ6LEIVLCCnNgwjzY5qP89kEw9jxPOuerU1OIyIR3gWHuK9xWTaFmFryZB0M94outBZMSYM1yeHAnHCmAY5nwcRL8/ZDvbYREQEw2NGkHHw6CZ1qA3d0ODwNcMC8VXAYyA9x3OTQKHupqJY2TqtaCJ1tCzLmu1AXvfwddl8KhE/BtJqSnQ7qBzN3Q7QtYXc7rrPQ+DpGS5IK3voY7U7wXt74EVnWDsq6NKMyC3tPB2RdWtHXfXTjhpvfgh9awrQd49jZ15cMby+HFXbAzF6pVg+vbwGNtITwFbl8B8zKgZi24ry/8tQZQAOM/gGnu8Q7RcXBlc3iyM+Suh7t+gbX50KEZfNAPDibBuF9gP3D5xfBeL6iWBgPnwE/50KQOTLwMJga4Z5WcTolDpASt+xkuWeX90RuRCbB+OLSoQHX856owG+6eA5ubw6y2kHkcVu6GvyVBdktIvsL+3YenfXvg8V/go1R4uickbYbPDkN4PLwxDMaU8R1dsFNVlUgJydgHI3wkDSJh+sALI2kA7N8Fb2XAxLZQJwqa14Sbu8Dk2pCTf/7vYneEQh0X5ObD8mwY2wO+6ANV02HiamtgY0W3bw/cPgei34SXN8MY9yDJuJnwkY+eeoGixCFSAgqy4M75sMdH+fjBcIPXVwQGp0qVrDuK17cWncSPHoLXjsPjXeB836RbNxGurAaEw/j2MDQBBreG8VUhLQMyg6AepTwnR3XHFTlfhTBlAXzm44mF7bvA84kX1lVatfrwRTeYuAYabIK2laFyLPz1GhheWu9fd0Cs+44uCPKGlRx3wFO/W8nxinCgFozfAH9zJ8fYMhowqMQhcp5Wrob7Dnovi06Ezzr5eB95MHNAv0tg4yVlHUiQKSfJ8UK6CBIpcUd2w8i1Pgqj4MMB0OQCadeQC4cSh8g5cmbCLQvB11CG+66Ekefc2V+k/FLiEDkXBfD8PJjv4wVDnbvD0wmBe+rthSYpCSbsBJxw/xLY5ISvfoIX04AjcOsKSA2Gho5ySuM4ROwysORHuHyj9+K4BrBxCDTUZZmch6Qk+OM6+CUf2jeDD/tB8iq4Zz3sc8DADvBhd6hRBlcnShwiNh3YCRcvAK/vFIqBr26EYX68FlWkotI1kYgNeUdh9CIfSQN46EoYqqQhQU6JQ8RPxglPzIMffDxor0dPeKK22jUk+KmqSsRPy5ZC700+CmPg+R5QtxQuxRISoO8FNxBEyjMNABTxh4EdqWcoz4YHF5XOpvsMhqVNSmfdIudCVVUiImKLEoeIiNiixCEiIrYocYiIiC3qVSUiIrbojkNERGxR4hAREVuUOERExBYlDhERsUWJQ0REbFHiEBERW5Q4RETEFiUOERGxRYlDRERsUeIQERFblDhERMQWJQ4RP6WnQINpcNNucJV1MCJlSIlDxAZjlDRE9HRckfLMBUuSYMjPkFsddl8PDXS5J2VMX0GRcqowB/46By7/GXLLOhgRD0ocIn44lgr3zIX4qTApLTDbdGbB5+kwuiuMiAzMNkX8EVbWAYhUBNFxMDoRpu4Bv+p2C+Gxj+Dp496LBw2D+Q3OvIrIapA0DiobuGuD3YhFSo8Sh4gfIqKhXRVw+LuAA1okwmXHvBd3jfZjFaFQGaDA342KBIYSh0hpCIGb+8HNZR2HSClQ4hApDS748Ad4z0dVVa9u8HjNwIYkUlKUOERKg4Ete2GRj8QR2j6w4YiUJCUOkdIQCk/dBE+VdRwipUDdcUX8cDAZRq+welS9uQQmp5Z1RCJlRyPHRUTEFt1xiIiILeUncbjgk4UQMQ0m7rP/ILnDB+GppdD5XXC8D78UlkqUfsn4HV5aBr0/AMcbsNBZdrGIiJS0osThgskfgWOKx8+/4XPPh+QUwv/NsMqeP+ox3Qk3vFF82ct32YykAGbsAmchzNoFeTYXz8iEvBD4LdvmgqUgMxOyQiH5OH4OMxYRqThCPH97ZBTMa2P9N64xHBkP10QVzVyQBbPcCeO/++F/F/Xh8OmdsK23tZ6po2FhY5uRRMBTvWBII3ixA/gxsLaYls1hUjuoa3O5gmx4fQMcKMFnZddvBJMugWYlt0oRkXKjWFWVIxR6NYOqwIl0+P2Uk+nh/bDe/fvaHfC759W0A35PA0c1GFT13Pr5XtwWvh4Coyufw8LnaPNGmLC2ZBOHiEgwO62NIzYeOoUAR+GnU57lvHwHRNeCi4HCw7DKsz7JBT8ehIREqF1+Wk7OKC8T/rmxrKMQEalYTrsxcETC8GqwOA3mpMLtse6CPJh5CLr3hWtccG8qzEyF4fWsYpMH849B53qnVzMZJ8z+BZ7ZDElZQDj0aQ4v94BOEeDKh6+3wgfb4fPD8M+x8NeqRcsfT4MnV8KMfZBa4FFFdlICZIyEWI9Jzhz4YBO8tgWSsqF2bXh1ANzgvps59Bt0mA+H3ft26X/cC1aG9WOgXejZ4/4fF/y0GZ7YCEvSwQlUiYFMfz8FD1nHYeYWeH8b/AgsGAirfoUPdsGOfKhfD94ZAJ2yYdoGmL4TtudD4wbwXn/oFVV8ff7uw2/J8OR6WJQKB/KBUOjZEt7oCa3DrXkK82D+Vnh9E8wvhFXXwLZN8MoWWJsNNWvBqwPhxgDeMYpI4J1+bxACvd3JYFUynGxrzvwdlhbAqLowoKk1bfFvReXZGbDRwLCLiq/O5MOk2XDtOriiF2y7CRZ2gc2/Qve5sL3Qeu/ANwdhXerpSSEnDfp/Ci9mwBtjIP9umONuh6EaLLsZDl4JVTwXyoQhH8MLhyChOtRzwKFDMGo+7HBXSdWoDyuvgRYAMfDVWEi5BfZeC61C/YsbgEJ4az70XAp7a8DsG2DvLbCoLzS191kAcGA/LDoCqzKt/Rj7AxyMgzvaQ7cISNkL/T+CDotgdzTc3gH6RcGuPXDNiuLJyt992L4B2n4DX8fA/LGQejNMaQDLf4UhqyHHvb61a2H8zzD/qBXbwI/g6f1QtwY0DIEjh2HsQtilaj+RoOa1UqlZA+txzqn7YZf75LJ5JxytBv1ioEEDaAwcSYFt7vKUA5BRCbqccruxchU8lQpjBsHTTaF5ZRikaHilAAART0lEQVTQHl5OgPyD8ORB670DU/vDmEqnx/LtSkhywcDuMKwShITCVV2gXwiQAb86oHbUKY+7joaP/gDrR8Ccq2D7jdABIBUWuzNdaDgkxkIkgANqx0G9OEiMgXA/4wbYvhH+mAx1WsOyK2BoDUiMg86JkGD/86BZK/igj7thPQ4WXAv/7goPdYF5g6GaO96Z18J/usFDl8LcYVangNQUj4Tm7z64YN5m6w1zlSpBsxioXgnu6GYl1T27Idm9zku7w2/XQRv3Mf74ZthyLXw5DLaMsqa7DsNy26+rM+SmppC8axe7fPwk78sgXz3URMoFr4kj7iLo5ACOwfIcoBDm7IGGjaB+CERWgSGxQCZ84+5yuiYFKteCRqFF6zG5VhUJ4TAuwePk7oBm7juTn/adoettIax39+JqHle0fEgEtHRXyRz19q6CMKgRXvTfqCowwl31tT/f57GwH3cBvPyLNebk4Usg3u+XNfjJUTwhVqoKjbzMFlPFSuTkwTGXzX0IgXGDYeFV8GFrOFl7FRZpdZIgHzK9nbDDoNYpx3hgnPX7AT+OcXEnWDa+NY2bNKGJj5/G3Z5gg96fKlIueO385IiEq6rB9+kw5wjcGg9zMmFQI/cVehhcVw9e3wqz9sLDcTAvHdq1Ld7OkHsc1rhP7APe8B7A8SzrPTVe34wZAo1jgKOw+Ti4almZzpUPm3OAKOgW623BU3cIot0p0uXHVau/cWcdh0XZQAx0j/EjjvMV4iPTh8DJfH1y9+wc+8pVYYA7sf6eDl/vhgV7IMlmeP87xjaXE5GKxXuv2RDoWw9Ih9XJsCMLtkXA6/FFs7RvCnFbYf1O2JsAq/LhthrFT2wF+XAMIB52jIKmdntbOWBYV2g8Gxb/BLNqwnWx8PkqWGrguj7QI/zsq7HL37hP7IdUgHCILem7jfNk69gXwtLN8OQvsDgXRraBmzvB5gNF3a9LVyX6zzpRImMlHY5y9kGIBBljjO/hFs0aQKX1kL4f3k2HqDrQ0eMkXaUW9AiFhUfgq72QEgV9T2mjCA2zelidyIZDheeQOIAqCVYj9t9XwKgPITIcGtaEF6+GCYml81x4f+N2hLi3nwcZLoou+8sBv499IUz5Gu7dC41bwdbe0CIcXNnwTMCiNeSm7uVgZoHP5OGIqEbdutWIUF4QKXM+z7txF0FHB/yQCS9lQu/+7jpvN0ckjKkJCw/CE2shrAa0PGVtUZWhtQOW5sLsDOh1jm88q1EL2gLte0JSB6vxukSZ4tUr/sYdFQcNgbRc+PIo9KpR0oGdO3/3Ied3eGovEAXvuJNG4FltHAM+y/I9S90/kbTjFTqf5ZECetizSOnzeQ8QEmW1c5x0Q8Kpw8yhr/uZGum51h1KsS6xQEgMPOTuk/raj7DhlIf95Z2wxiGc7blUuWnw3EFISYEXNsKc/bDfW6O4XScbn3Nhr8f6/I27IBZudp+QX/kB1nnMV5gPZzgNljp/9yGn0H38w6GK5wds9JgtEfHOd01PCPRNBNKBqnCFl8bfhHrQEtgK9KvjfWWDesHth+DtQ9DxE5jY2roz2XEIPtgBtS6FG93z5rov+3NOGcxhXNaguoy98OjeoumdmsPLvaBPdNF8BQAucHqe9QxkudeZ43FrERYBiaGwvhD+/AO4WoAzEzq28jPupjCuD0ybBVsOQccZMKohVMmHJQcgGaAQjhVi6zbp5P5SSLEuqP+b7jp9eoF7P/M8pvuzDzckQt9wmJ0Jr++FaQ2sMS/PrIa1Z9rWKbGBx+dnu3W85No4RKT0nfFFTsf3Qt0voVoH2N4Tok6doRD+OgOeyYFvxsGVEd7WAoW5MP1neGU7bMoBwuHSejCuHYyrCwUH4OIvYbdHwqjTFLYOgqw9MPZ7SGsAL7WAY0dhzSH4bDtsKwCqw6/XwYkV0G990YBEwuGf18Ej4dB/Jiz1uOJu1R7W9LLaANatgxErYU8hVKkMQ1rCs5dAvZCzx33yeKQegInLYFYqFETAwJbwz3bw8IfwPUAI3HQVvJ949g9kxY9wxYaiQXcn9+OONGiz0MrjAITCA9fA3/Og5VyPZ205YPAA+LqZdYfozz6k7oNbl8I3R6FGNejfFB5tC9M+gSnZVvwjhsBDKdB/w+nH+CEH9P4vrPY4xl27ww+dirr3ikjwKNdvAHRlw5Xvw8LKsPVGaOFRlVKYDWNnwie58MpN8Cc95kJEJCDK9eMIszNgdSFEVD79wYmh0TCgMhAKibqsFREJmHKdOMIirQb3/FOfxAsUnIAP06BBGxhwWh2aiIiUlnKdOKLi4cEEIBeu+wZmp8EJJ+zYB7d+CdsbwLzu1nO1REQkMMp1GwdYjxd5fxU8ux225gIh0Kw2/KEd3NcYKmtAmIhIQJX7xCEiIuVLua6qEhGR8keJQ0REbFHiEAlS+/bA7XMg+k14eTOMmQWRUyBuJnx0Lu81FnFT4hAJUo5QqOOC3HxYng1je8AXfaBqOkxcXbbPUpOKTYlDJEjVTYQrqwHhML49DE2Awa1hfFVIy/DxZkcRPyhxiFxIHBDrfm+M8oacKyUOERGxRYlDRERsUeIQERFblDhEglRSEkzYCTjh/iWwyQlf/QQvpgFH4NYVkKqGDjkHeuSIiIjYojsOERGxRYlDRERsUeIQERFblDhERMQWJQ4REbFFiUNERGwJK+sARMQPBt79DG47HODtxsP2UdBMl5jiQV8HERGxRYlDRERsUeIQERFblDhERMQWNY6LVAQOaFkb8NU4HgX/7AlNQkt2s2FRUEeXl3IKPeRQpKIohOkLYFyy9+J6rWB1P6jtCGxYcuHRtYRIRREKtwyAybW9F+/dAoNWwVFdCkopU+IQqUAc4fDQUJhY1Xv5hjVw7UbICWxYcoFR4hCpYEKi4IXhcEO09/LFP8K4HeAMbFhyAVHiEKmAwivBuyOgr4/uLZ8shAf2giuwYckFQolDpIKKiYfZV0EbH+X/mgvPpIKaPKSkqVeVSAV34DfoPB8OeiuMhDevhzuqBDoqCWa64xCp4BKawOI+EOutMA/unANfZgc6KglmShwiQaDlxfBtZx9/0Cdg5JewPC/QUUmwUuIQCRLdu8DsVt7LXGkwcD5sLghsTBKclDhEgoUDhveFNxp4L87eB/0Ww151tZLzpMQhEkxC4Y5B8GRN78VHdkD/5ZAWZF1i0lOgwTS4abd/XZDX/QpXfwoRb8F3GvBimxKHSJBxhMOjw2B8Ze/l2zfAsLVwIrBhlTpj/B+3Uj8RRsaBU3df50SJQyQIhUbDKyNgZJT38pUrYcxmCJb28vj6kDIeZjT076QWXwWa+Rh578nkwqgZsFB3JcUocYgEqYhK8MHV0NPHo9a/WgL3JENhYMOqULZuh9lZZR1F+aPEIRLEYqvDF8OghY/yd+bBPw4HbnT5jCUQPwUc0+DqJMgCnMeg3RTot92qakpNgQHvgeNdeOSAFZtxwkfLoM370Hg6JM6Ct9OtsmOpcM9ciJ8Kk9KKtlWYC88ugItnQefp4HBvt9kn8G6meyYDW3bB2FkQOQUu+hQ+dpft/BVGrgCnE279BFrOhOfSA3SgyjklDpEgFx0JPmtlwqBBNATqFR5jL4PJNYHK8Fwna9DinmTYCKzcDhlAjfrwSAIM7QOTE8Dhgg8WwG0H4e1RsOsWeCkW7vgKVjkhOg5GJ0KGyyMBuuC9BfDoMZg1EpLGwN0xQBWYez2Mq+SerwB+PAG39oTZvSEmFcavhEygaRuY3tI6RtNHwdbR8FB8gA5UOafEIRLEXLnwwDxY56P8pgEwzkcjeqlwQL8mQAb8lAu44MvfYHxbyD0ASflAAXz2O4yuYyW03DSYtAcGd4FukdY6BraEsBMwIx0ioqFdleLJz5UL7+yDJo2gUSg4IuD6usBx2ONZNxcOd7WDAXVgSFv4UzwczYCMIOt1VtL06liRYOWCT5bA1Ezvxc07wuuNoITfNntW9etDgxUwOxX+UA0+d8CbbeG7TTAzFS6LhBXR8Kj7Nin1CKQA+Suh9xprmqsAasRAwRkaaFxAocddiLMQiIYavi6XHVA5FDBWD62A3YZVQEocIkFqy0a4dZf3srBa8HlXCOTNxklRVWFgNMxJhi3HIKQpNKsK11aGd3bC1koQ27joFbgud5fZuwbAE35WFYVEwR2JcPsOWNMRuhbAmwegTxdoG+hMGYRUVSUShI4fgpHLIN9bYTi8MwjalNUJNAyuqwupe+Ff2+GGhhAWCtc0gsPJ8O9dMLx+0VVt9epQE/h6H/j9xJQQuHUwTK0NQz+B4d9D014w92IItxuvC5yquipGiUMkyBTmwIR5sM1H+e2DYGwlH4UB0qkpRGTCu8CwOGtaq6ZQMwvezIOhHvHF1oJJCbBmOTy4E44UwLFM+DgJ/n7I9zZCIiAmG5q0gw8HwTMtwO5uh4cBLpiXCi4Dmeq7DChxiAQXF7y7CN738Rj11pfAKw3K/g+/Wm24BOjUChLdwcReBAMjoX4jaOJ5NxQC9wyFqS1h7lKo9R9o9BUsiYA7asDBZBi9wmrLeHMJTE51L1cIK9JgzTKInwYx78G1K+BXJ6z5GSbuBJzwwBLY5IRvV8CTqcDvcNsy2OeCls2hRwRMmQPNZ8O7xwJ5lMovvchJJIis+xkuWeX90RuRCbB+OLS4AOr4C7Ph7jmwuTnMaguZx2HlbvhbEmS3hOQr7N99eNq3Bx7/BT5Khad7QtJm+OwwhMfDG8NgTBnf0ZW2sr7wEJESkrEPRvhIGkTC9IEXRtIA2L8L3sqAiW2hThQ0rwk3d4HJtSEn//zfxe4IhTouyM2H5dkwtgd80QeqpsPE1dbAxmCmxCESBAqy4M75sMdH+fjBcIPXVwQGp0qVrDuK17cWncSPHoLXjsPjXeB836RbNxGurAaEw/j2MDQBBreG8VUhLQMyg7weR91xRSq6QpiyAD7z8cTC9l3g+cQL6yqxWn34ohtMXAMNNkHbylA5Fv56DQwvrfevOyDWfUcX5HlDiUOkolu5Gu476L0sOhE+6+TjfeTBzAH9LoGNl5R1IMHpQroIEQk6R3bDyLU+CqPgwwGn9FASKQFKHCIVlDMTblkIvoYy3HcljIwJaEhygVDiEKmICuD5eTDfxwuGOneHpxP0uKXSkpQEE9zjQO53jwP56id4MQ04AreugNQgbujQOA6RisbAkh/h8o3ei+MawMYh0FCXhVJK9NUSqWAO/AbX+UgaxMDMK5Q0pHTp6yVSgeQdhdGLwNeL6B66Eob68S5tkfOhxCFSQRgnPDEPfvDxoL0ePeGJ2mrXkNKnNg6RCmLZUui9yUdhDDzfA+qWwqVgQgL0veAGgsiZaACgSEVgYEfqGcqz4cFFpbPpPoNhaZPSWbdUTKqqEhERW5Q4RETEFiUOERGxRYlDRERsUa8qERGxRXccIiJiixKHiIjYosQhIiK2KHGIiIgtShwiImKLEoeIiNiixCEiIrYocYiIiC1KHCIiYosSh4iI2KLEISIitihxiFQQ6SnQYBrctBtcZR2MXNCUOEQqEGOUNKTs6em4IuKbC5YkwZCfIbc67L4eGuhy84Knr4CIeFWYA3+dA5f/DLllHYyUK0ocIhXAsVS4Zy7ET4VJaYHZpjMLPk+H0V1hRGRgtikVQ1hZByAiZxcdB6MTYeoe8KtuuRAe+wiePu69eNAwmN/gzKuIrAZJ46Cygbs22I1YgpkSh0gFEBEN7aqAw98FHNAiES475r24a7QfqwiFygAF/m5ULhRKHCLBKARu7gc3l3UcEpSUOESCkQs+/AHe81FV1asbPF4zsCFJ8FDiEAlGBrbshUU+Ekdo+8CGI8FFiUMkGIXCUzfBU2UdhwQldccVqQAOJsPoFVaPqjeXwOTUso5ILmQaOS4iIrbojkNERGxR4hAREVv+PzbwDvIOsKatAAAAAElFTkSuQmCC)"
      ]
    },
    {
      "cell_type": "code",
      "metadata": {
        "colab": {
          "base_uri": "https://localhost:8080/"
        },
        "id": "O0aro2_PV5pj",
        "outputId": "cab94a48-1ebf-4e21-8e9b-77918150d795"
      },
      "source": [
        "# Weighted average\r\n",
        "w = np.array([1,2,3,6,2])\r\n",
        "\r\n",
        "weightedAverage = np.average(f, weights = w )\r\n",
        "print(weightedAverage)"
      ],
      "execution_count": null,
      "outputs": [
        {
          "output_type": "stream",
          "text": [
            "3.4285714285714284\n"
          ],
          "name": "stdout"
        }
      ]
    },
    {
      "cell_type": "markdown",
      "metadata": {
        "id": "qlnJEnQjZn-T"
      },
      "source": [
        "![calculate-a-sample-standard-deviation-3126345-v4-CS-01-5b76f58f46e0fb0050bb4ab2.png](data:image/png;base64,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)"
      ]
    },
    {
      "cell_type": "code",
      "metadata": {
        "colab": {
          "base_uri": "https://localhost:8080/"
        },
        "id": "bJ0-t6eaWfxa",
        "outputId": "cfef4a1c-f3fb-44d9-f3ea-68ab5d790cd4"
      },
      "source": [
        "numbers = np.array([1,2,3,4,5])\r\n",
        "mean = np.mean(numbers)\r\n",
        "std = np.sqrt(np.mean(abs(numbers - mean)**2))\r\n",
        "print(std)\r\n"
      ],
      "execution_count": null,
      "outputs": [
        {
          "output_type": "stream",
          "text": [
            "1.4142135623730951\n"
          ],
          "name": "stdout"
        }
      ]
    },
    {
      "cell_type": "code",
      "metadata": {
        "colab": {
          "base_uri": "https://localhost:8080/"
        },
        "id": "5I0hu25LdJw2",
        "outputId": "8bb5e820-6981-4cc5-c807-43f2025cc269"
      },
      "source": [
        "#using in-built function\r\n",
        "sd = np.std(numbers)\r\n",
        "print(sd)"
      ],
      "execution_count": null,
      "outputs": [
        {
          "output_type": "stream",
          "text": [
            "1.4142135623730951\n"
          ],
          "name": "stdout"
        }
      ]
    },
    {
      "cell_type": "code",
      "metadata": {
        "colab": {
          "base_uri": "https://localhost:8080/"
        },
        "id": "YwRq3nAGU3Oq",
        "outputId": "52929d91-f17a-43ea-babd-32ac0c51c958"
      },
      "source": [
        "#Variance - measures spreadness - square of standard deviation\r\n",
        "print(sd**2)\r\n",
        "print(np.var(numbers))"
      ],
      "execution_count": null,
      "outputs": [
        {
          "output_type": "stream",
          "text": [
            "2.0000000000000004\n",
            "2.0\n"
          ],
          "name": "stdout"
        }
      ]
    },
    {
      "cell_type": "code",
      "metadata": {
        "colab": {
          "base_uri": "https://localhost:8080/"
        },
        "id": "eHDThfQRyN_e",
        "outputId": "d849962f-6dcd-4343-e6d4-fc7e301fe59a"
      },
      "source": [
        "1.4142135623730951*1.4142135623730951"
      ],
      "execution_count": null,
      "outputs": [
        {
          "output_type": "execute_result",
          "data": {
            "text/plain": [
              "2.0000000000000004"
            ]
          },
          "metadata": {
            "tags": []
          },
          "execution_count": 60
        }
      ]
    },
    {
      "cell_type": "code",
      "metadata": {
        "id": "xVCShGe_yobQ"
      },
      "source": [
        ""
      ],
      "execution_count": null,
      "outputs": []
    }
  ]
}